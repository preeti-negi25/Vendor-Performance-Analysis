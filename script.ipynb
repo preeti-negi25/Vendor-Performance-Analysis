{
 "cells": [
  {
   "cell_type": "code",
   "execution_count": 31,
   "id": "b363b08d-65b1-4b88-b662-84864e32398b",
   "metadata": {},
   "outputs": [],
   "source": [
    "import pandas as pd \n",
    "import os \n",
    "from sqlalchemy import create_engine\n",
    "import logging\n",
    "import time \n",
    "logging.basicConfig(\n",
    "    filename='logs/ingestion.db.log',\n",
    "    level=logging.DEBUG,\n",
    "    format='%(asctime)s - %(levelname)s - %(message)s',\n",
    "    filemode = \"a\"\n",
    ")\n",
    "engine = create_engine('sqlite:///inventory.db')\n",
    "\n",
    "def ingest_db(df , table_name, engine): \n",
    "    'this fun will ingest dataframe to database table'\n",
    "    df.to_sql(table_name, con = engine , if_exists = 'replace' , index = False , chunksize = 100000 )\n",
    "    \n",
    "def load_raw_data():\n",
    "    'this fun will load cvs as dataframe and ingest into database '\n",
    "    \n",
    "    start = time.time()\n",
    "    for file in os.listdir('data'):\n",
    "        if '.csv' in file:\n",
    "            df = pd.read_csv('data/' + file , low_memory= True)\n",
    "            logging.info(f'Ingesting{file}in db')\n",
    "            ingest_db(df , file[:-4], engine)\n",
    "            \n",
    "    end = time.time()\n",
    "    total_time = round((end-start)/60,2)\n",
    "    logging.info('Ingestion Complete')\n",
    "        \n",
    "    logging.info(f'\\nTotal Time Taken : {total_time}minutes')\n",
    "if __name__ ==  '__main__': \n",
    "    load_raw_data()"
   ]
  },
  {
   "cell_type": "code",
   "execution_count": null,
   "id": "97b8f98d-8c65-4834-a0ea-36826da1ec6e",
   "metadata": {},
   "outputs": [],
   "source": []
  },
  {
   "cell_type": "code",
   "execution_count": null,
   "id": "b45b469b-be94-4e78-82df-d09a449f7ca0",
   "metadata": {},
   "outputs": [],
   "source": []
  }
 ],
 "metadata": {
  "kernelspec": {
   "display_name": "Python 3 (ipykernel)",
   "language": "python",
   "name": "python3"
  },
  "language_info": {
   "codemirror_mode": {
    "name": "ipython",
    "version": 3
   },
   "file_extension": ".py",
   "mimetype": "text/x-python",
   "name": "python",
   "nbconvert_exporter": "python",
   "pygments_lexer": "ipython3",
   "version": "3.12.5"
  },
  "widgets": {
   "application/vnd.jupyter.widget-state+json": {
    "state": {},
    "version_major": 2,
    "version_minor": 0
   }
  }
 },
 "nbformat": 4,
 "nbformat_minor": 5
}
